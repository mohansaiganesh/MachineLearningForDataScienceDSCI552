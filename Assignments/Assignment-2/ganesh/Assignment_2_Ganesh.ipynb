{
  "cells": [
    {
      "cell_type": "markdown",
      "id": "d1697abd",
      "metadata": {
        "id": "d1697abd"
      },
      "source": [
        "# Assignment 2: Exploratory Data Analysis and K Nearest Neighbors Classification"
      ]
    },
    {
      "cell_type": "markdown",
      "id": "7c6bf81f",
      "metadata": {
        "id": "7c6bf81f"
      },
      "source": [
        "For this assignment you will perform exploratory data analysis to visualize wine dataset using Scikit Learn. And, you will explore the bias/variance trade-off by applying k-nearest neighbors classification to the Wine dataset and varying the hyperparameter k.\n",
        "\n",
        "Documentation for Scikit Learn:\n",
        "+ The top level documenation page is here: https://scikit-learn.org/stable/index.html\n",
        "+ The API for the KNearestNeighborsClassifier is here: https://scikit-learn.org/stable/modules/generated/sklearn.neighbors.KNeighborsClassifier.html#sklearn.neighbors.KNeighborsClassifier\n",
        "+ The User Guide for KNearestNeighborsClassifier is here: https://scikit-learn.org/stable/modules/neighbors.html#classification\n",
        "+ Scikit Learn provides many Jupyter notebook examples on how use the toolkit. These Jupyter notebook examples can be run on MyBinder: https://scikit-learn.org/stable/auto_examples/index.html\n",
        "\n",
        "For more information about the Wine dataset, see this page https://scikit-learn.org/stable/modules/generated/sklearn.datasets.load_wine.html."
      ]
    },
    {
      "cell_type": "code",
      "execution_count": null,
      "id": "e7179951",
      "metadata": {
        "id": "e7179951"
      },
      "outputs": [],
      "source": [
        "import matplotlib.pyplot as plt\n",
        "from mpl_toolkits.mplot3d import Axes3D\n",
        "from sklearn import datasets\n",
        "from sklearn import neighbors\n",
        "from sklearn.model_selection import train_test_split\n",
        "from pandas import DataFrame"
      ]
    },
    {
      "cell_type": "markdown",
      "id": "fc297327",
      "metadata": {
        "id": "fc297327"
      },
      "source": [
        "##  Load Wine dataset"
      ]
    },
    {
      "cell_type": "code",
      "execution_count": null,
      "id": "f40820bc",
      "metadata": {
        "id": "f40820bc"
      },
      "outputs": [],
      "source": [
        "wine = datasets.load_wine()\n",
        "X = wine.data\n",
        "y = wine.target"
      ]
    },
    {
      "cell_type": "markdown",
      "source": [
        "## Part 1 Exploratory Data Analysis\n",
        "\n",
        "### Dataset size"
      ],
      "metadata": {
        "id": "2MV8w793kUz1"
      },
      "id": "2MV8w793kUz1"
    },
    {
      "cell_type": "code",
      "execution_count": null,
      "id": "3723bdc3",
      "metadata": {
        "id": "3723bdc3"
      },
      "outputs": [],
      "source": [
        "print(\"Number of instances in the wine dataset:\", X.shape[0])\n",
        "print(\"Number of features in the wine dataset:\", X.shape[1])\n",
        "print(\"The dimension of the data matrix X is\", X.shape)"
      ]
    },
    {
      "cell_type": "code",
      "execution_count": null,
      "id": "e7eafd13",
      "metadata": {
        "scrolled": true,
        "id": "e7eafd13"
      },
      "outputs": [],
      "source": [
        "X"
      ]
    },
    {
      "cell_type": "markdown",
      "id": "ab24a35c",
      "metadata": {
        "id": "ab24a35c"
      },
      "source": [
        "The `y` vector length is 178. It has three unique values: 0, 1 and 2. Each value represents a kine of wine."
      ]
    },
    {
      "cell_type": "code",
      "execution_count": null,
      "id": "7f3edc35",
      "metadata": {
        "id": "7f3edc35"
      },
      "outputs": [],
      "source": [
        "y"
      ]
    },
    {
      "cell_type": "markdown",
      "source": [
        "### Descriptive statistics\n",
        "\n",
        "Show the summary table of wine data including min, max, median, and quantiles"
      ],
      "metadata": {
        "id": "KUuTtmFekgGd"
      },
      "id": "KUuTtmFekgGd"
    },
    {
      "cell_type": "code",
      "execution_count": null,
      "id": "f13d72b2",
      "metadata": {
        "id": "f13d72b2"
      },
      "outputs": [],
      "source": [
        "y.shape"
      ]
    },
    {
      "cell_type": "code",
      "execution_count": null,
      "id": "76c51b8d",
      "metadata": {
        "id": "76c51b8d"
      },
      "outputs": [],
      "source": [
        "dir(wine)"
      ]
    },
    {
      "cell_type": "code",
      "execution_count": null,
      "id": "b4d08f11",
      "metadata": {
        "id": "b4d08f11"
      },
      "outputs": [],
      "source": [
        "import numpy as np\n",
        "import pandas as pd\n",
        "wine_df = pd.DataFrame(data= np.c_[wine['data'], wine['target']],\n",
        "                     columns= wine['feature_names'] + ['target'])"
      ]
    },
    {
      "cell_type": "code",
      "execution_count": null,
      "id": "7df4ab83",
      "metadata": {
        "id": "7df4ab83"
      },
      "outputs": [],
      "source": [
        "wine_df.describe()"
      ]
    },
    {
      "cell_type": "code",
      "execution_count": null,
      "id": "6d238d65",
      "metadata": {
        "id": "6d238d65"
      },
      "outputs": [],
      "source": [
        "wine.target_names"
      ]
    },
    {
      "cell_type": "code",
      "execution_count": null,
      "id": "68a42146",
      "metadata": {
        "id": "68a42146"
      },
      "outputs": [],
      "source": [
        "wine.feature_names"
      ]
    },
    {
      "cell_type": "markdown",
      "id": "3f8657d6",
      "metadata": {
        "id": "3f8657d6"
      },
      "source": [
        "### (TODO) Part 1a Draw box plots\n",
        "\n",
        "Draw four box plots for attributes: alcohol, malic_acid, ash, alcalinity_of_ash. Use color to show the different target class.\n",
        "\n",
        "Some links to help you:\n",
        "\n",
        "https://seaborn.pydata.org/generated/seaborn.boxplot.html\n",
        "\n",
        "https://matplotlib.org/stable/api/_as_gen/matplotlib.pyplot.boxplot.html"
      ]
    },
    {
      "cell_type": "code",
      "execution_count": null,
      "id": "0b383de3",
      "metadata": {
        "id": "0b383de3"
      },
      "outputs": [],
      "source": [
        "import matplotlib.pyplot as plt\n",
        "import seaborn as sns"
      ]
    },
    {
      "cell_type": "code",
      "execution_count": null,
      "id": "f9527938",
      "metadata": {
        "id": "f9527938"
      },
      "outputs": [],
      "source": [
        "## Insert your code here..."
      ]
    },
    {
      "cell_type": "markdown",
      "id": "cd277e9d",
      "metadata": {
        "id": "cd277e9d"
      },
      "source": [
        "### (TODO) Part 1b\n",
        "Based on the box plots, if you were only allowed to choose one attribute which attribute would you choose? Whay?"
      ]
    },
    {
      "cell_type": "markdown",
      "source": [
        "#### Insert your answer for 1b here..."
      ],
      "metadata": {
        "id": "_zrRGTFWmNGd"
      },
      "id": "_zrRGTFWmNGd"
    },
    {
      "cell_type": "markdown",
      "id": "a4e449bf",
      "metadata": {
        "id": "a4e449bf"
      },
      "source": [
        "### (TODO) Part 1c Scatter plots\n",
        "\n",
        "Generate [scatter plots](https://matplotlib.org/stable/api/_as_gen/matplotlib.pyplot.scatter.html) using each pair of the first 4 attributes (alcohol, malic_acid, ash, alcalinity_of_ash) as axis. You should generate $6 = {4 \\choose 2}$ scatter plots.\n",
        "\n",
        "Note: use the smaller index attribute as x axis and the larger one as y axis. eg. for pair (alcohol, malic_acid), alcohol is the x axis and malic_acid is y axis."
      ]
    },
    {
      "cell_type": "code",
      "source": [
        "## Insert your answer here..."
      ],
      "metadata": {
        "id": "G_k62wEDm6Vl"
      },
      "id": "G_k62wEDm6Vl",
      "execution_count": null,
      "outputs": []
    },
    {
      "cell_type": "markdown",
      "id": "42080844",
      "metadata": {
        "id": "42080844"
      },
      "source": [
        "### (TODO) Part 1d\n",
        "If you were to draw linear decision boundaries to separate the classes, which scatter plot from 1c do you think will have the least error and which the most?"
      ]
    },
    {
      "cell_type": "markdown",
      "id": "c97960f5",
      "metadata": {
        "id": "c97960f5"
      },
      "source": [
        "#### Insert your 1d answer here"
      ]
    },
    {
      "cell_type": "markdown",
      "id": "bd4bd827",
      "metadata": {
        "id": "bd4bd827"
      },
      "source": [
        "### (TODO) Part 1e PCA\n",
        "Scatter plots using two attributes of the data are equivalent to project the four dimensional data down to two dimensions using axis-parallel projection. Principal component analysis (PCA) is a technique to linearly project the data to lower dimensions that are not necessarily axis-parallel. Use PCA to project the data down to two dimensions.\n",
        "\n",
        "Documentation for PCA:\n",
        "+ API https://scikit-learn.org/stable/modules/generated/sklearn.decomposition.PCA.html#sklearn.decomposition.PCA\n",
        "+ User guide https://scikit-learn.org/stable/modules/decomposition.html#pca"
      ]
    },
    {
      "cell_type": "code",
      "source": [
        "### Insert your code here"
      ],
      "metadata": {
        "id": "Gkri2AKvnPtQ"
      },
      "id": "Gkri2AKvnPtQ",
      "execution_count": null,
      "outputs": []
    },
    {
      "cell_type": "markdown",
      "source": [
        "### (TODO) Part 1f\n",
        "In the case of the Wine dataset, does PCA do a better job of separating the classes?"
      ],
      "metadata": {
        "id": "9Ugs_dLHnTpQ"
      },
      "id": "9Ugs_dLHnTpQ"
    },
    {
      "cell_type": "markdown",
      "source": [
        "#### Insert your answer\n"
      ],
      "metadata": {
        "id": "ojPNwtC1nZ1d"
      },
      "id": "ojPNwtC1nZ1d"
    },
    {
      "cell_type": "markdown",
      "id": "778b4264",
      "metadata": {
        "id": "778b4264"
      },
      "source": [
        "## Part 2 K Nearest Neighbor"
      ]
    },
    {
      "cell_type": "markdown",
      "id": "dc9c227d",
      "metadata": {
        "id": "dc9c227d"
      },
      "source": [
        "Split the dataset into train set and test set. Use 70 percent of the dataset for training, and use 30 percent for testing."
      ]
    },
    {
      "cell_type": "code",
      "execution_count": null,
      "id": "1acd00eb",
      "metadata": {
        "id": "1acd00eb"
      },
      "outputs": [],
      "source": [
        "X_train, X_test, y_train, y_test = train_test_split(\n",
        "    X, y, test_size=0.30, random_state=42)"
      ]
    },
    {
      "cell_type": "code",
      "execution_count": null,
      "id": "5e05b95d",
      "metadata": {
        "id": "5e05b95d"
      },
      "outputs": [],
      "source": [
        "print(\"Number of instances in the train set:\", X_train.shape[0])\n",
        "print(\"Number of instances in the test set:\", X_test.shape[0])"
      ]
    },
    {
      "cell_type": "markdown",
      "id": "d2dd3e9f",
      "metadata": {
        "id": "d2dd3e9f"
      },
      "source": [
        "### (TODO) Part 2a Training a KNN classifer\n",
        "\n",
        "Create a KNeighborsClassifier with `n_neighbors = 3`. And, train the classifier using the train set."
      ]
    },
    {
      "cell_type": "code",
      "execution_count": null,
      "id": "275638b4",
      "metadata": {
        "id": "275638b4"
      },
      "outputs": [],
      "source": [
        "### Insert you answer here"
      ]
    },
    {
      "cell_type": "markdown",
      "id": "9cd63dce",
      "metadata": {
        "id": "9cd63dce"
      },
      "source": [
        "### (TODO) Part 2b Tuning hyperparameter k\n",
        "As we have seen in class, hyperparameter k of the K Nearest Neighbors classification affects the inductive bias. For this part train multiple near neighbor classifier models, store the results in a DataFrame. The plot plot training error and testing error versus N/k, where N = 100 and k are given in the k_list below."
      ]
    },
    {
      "cell_type": "code",
      "execution_count": null,
      "id": "1fd1968b",
      "metadata": {
        "id": "1fd1968b"
      },
      "outputs": [],
      "source": [
        "k_list = [1, 3, 5, 7, 9, 11, 13, 15, 50]"
      ]
    },
    {
      "cell_type": "code",
      "execution_count": null,
      "id": "43406fad",
      "metadata": {
        "id": "43406fad"
      },
      "outputs": [],
      "source": [
        "### Insert your code\n",
        "# Use the `result` to store the DataFrame"
      ]
    },
    {
      "cell_type": "markdown",
      "id": "fa70c94d",
      "metadata": {
        "id": "fa70c94d"
      },
      "source": [
        "### (TODO) Part 2c Decision boundaries\n",
        "\n",
        "Plot decision boundaries of K Nearest Neighbors.\n",
        "\n",
        "Use Scikit Learn's [DecisionBoundaryDisplay](https://scikit-learn.org/stable/modules/generated/sklearn.inspection.DecisionBoundaryDisplay.html#sklearn.inspection.DecisionBoundaryDisplay) class to visualize the nearest neighbor boundaries as k is varied.\n",
        "\n",
        "https://scikit-learn.org/stable/modules/generated/sklearn.inspection.DecisionBoundaryDisplay.html#sklearn.inspection.DecisionBoundaryDisplay"
      ]
    },
    {
      "cell_type": "code",
      "execution_count": null,
      "id": "863e52cc",
      "metadata": {
        "id": "863e52cc"
      },
      "outputs": [],
      "source": [
        "k_list = [1, 3, 5, 7, 9, 11, 13, 15, 50]"
      ]
    },
    {
      "cell_type": "markdown",
      "id": "d2063b42",
      "metadata": {
        "id": "d2063b42"
      },
      "source": [
        "Simplify the problem by using only the first 2 attributes of the dataset"
      ]
    },
    {
      "cell_type": "code",
      "execution_count": null,
      "id": "3773e395",
      "metadata": {
        "id": "3773e395"
      },
      "outputs": [],
      "source": [
        "X2 = wine.data[:, :2]"
      ]
    },
    {
      "cell_type": "code",
      "execution_count": null,
      "id": "8d25312a",
      "metadata": {
        "scrolled": false,
        "id": "8d25312a"
      },
      "outputs": [],
      "source": [
        "### Insert your code here\n"
      ]
    },
    {
      "cell_type": "code",
      "execution_count": null,
      "id": "e1f8eed9",
      "metadata": {
        "id": "e1f8eed9"
      },
      "outputs": [],
      "source": []
    },
    {
      "cell_type": "code",
      "execution_count": null,
      "id": "e3f74ddc",
      "metadata": {
        "id": "e3f74ddc"
      },
      "outputs": [],
      "source": []
    }
  ],
  "metadata": {
    "kernelspec": {
      "display_name": "Python 3 (ipykernel)",
      "language": "python",
      "name": "python3"
    },
    "language_info": {
      "codemirror_mode": {
        "name": "ipython",
        "version": 3
      },
      "file_extension": ".py",
      "mimetype": "text/x-python",
      "name": "python",
      "nbconvert_exporter": "python",
      "pygments_lexer": "ipython3",
      "version": "3.9.13"
    },
    "colab": {
      "provenance": [],
      "toc_visible": true
    }
  },
  "nbformat": 4,
  "nbformat_minor": 5
}